{
 "cells": [
  {
   "cell_type": "markdown",
   "metadata": {},
   "source": [
    "### In average, what are the cheapest areas (PLZ / Postal code) one can live in Germany? 🤑 🇩🇪 🏠 \n",
    "### Can we find some good deals close to the big cities?"
   ]
  },
  {
   "cell_type": "markdown",
   "metadata": {},
   "source": [
    "Aerial footage shot by a drone flying over the city of Göppingen. Video courtesy of infodesignerin."
   ]
  },
  {
   "cell_type": "markdown",
   "metadata": {},
   "source": [
    "# 1 - Introduction"
   ]
  },
  {
   "cell_type": "markdown",
   "metadata": {},
   "source": [
    "## 1.1 - Dataset Description"
   ]
  },
  {
   "cell_type": "markdown",
   "metadata": {},
   "source": [
    "The data was scraped from Immoscout24, the biggest real estate platform in Germany. Immoscout24 has listings for both rental properties and homes for sale, however, the data only contains offers for rental properties.\n",
    "\n",
    "**Content**\n",
    "\n",
    "The data set contains most of the important properties, such as living area size, the rent, both base rent as well as total rent (if applicable), the location (street and house number, if available, ZIP code and state), type of energy etc. It also has two variables containing longer free text descriptions: description with a text describing the offer and facilities describing all available facilities, newest renovation etc."
   ]
  },
  {
   "cell_type": "markdown",
   "metadata": {},
   "source": [
    "## 1.2 - Dataset Dictionary"
   ]
  },
  {
   "cell_type": "markdown",
   "metadata": {},
   "source": [
    "- **regio1:** Bundesland\n",
    "\n",
    "- **serviceCharge:** Auxiliary costs such as electricty or internet [Euro]\n",
    "\n",
    "- **heatingType:** Type of heating\n",
    "\n",
    "- **telekomTvOffer:** Is payed TV included? If so, which offer?\n",
    "\n",
    "- **telekomHybridUploadSpeed:** How fast is the hybrid inter upload speed?\n",
    "\n",
    "- **newlyConst:** Is the building newly constructed?\n",
    "\n",
    "- **balcony:** Does the object have a balcony?\n",
    "\n",
    "- **picturecount:** How many pictures were uploaded to the listing?\n",
    "\n",
    "- **pricetrend:** Price trend as calculated by Immoscout\n",
    "\n",
    "- **telekomUploadSpeed:** How fast is the internet upload speed?\n",
    "\n",
    "- **totalRent:** Total rent (usually a sum of base rent, service charge and heating cost)\n",
    "\n",
    "- **yearConstructed:** Construction year\n",
    "\n",
    "- **scoutId:** Immoscout Id\n",
    "\n",
    "- **noParkSpaces:** Number of parking spaces\n",
    "\n",
    "- **firingTypes:** Main energy sources, separated by colon\n",
    "\n",
    "- **hasKitchen:** Has a kitchen\n",
    "\n",
    "- **geo_bln:** Same as regio1\n",
    "\n",
    "- **cellar:** Has a cellar\n",
    "\n",
    "- **yearConstructedRange:** Binned construction year, 1 to 9\n",
    "\n",
    "- **baseRent:** Base rent without electricity and heating\n",
    "\n",
    "- **houseNumber:** House number\n",
    "\n",
    "- **livingSpace:** Living space in sqm\n",
    "\n",
    "- **geo_krs:** District, above ZIP code\n",
    "\n",
    "- **condition:** Condition of the flat\n",
    "\n",
    "- **interiorQual:** Interior quality\n",
    "\n",
    "- **petsAllowed:** Are pets allowed, can be yes, no or negotiable\n",
    "\n",
    "- **street:** Street name\n",
    "\n",
    "- **streetPlain:** Street name (plain, different formating)\n",
    "\n",
    "- **lift:** Is elevator available\n",
    "\n",
    "- **baseRentRange:** Binned base rent, 1 to 9\n",
    "\n",
    "- **typeOfFlat:** Type of flat\n",
    "\n",
    "- **geo_plz:** ZIP code\n",
    "\n",
    "- **noRooms:** Number of rooms\n",
    "\n",
    "- **thermalChar:** Energy need in kWh/(m^2a), defines the energy efficiency class\n",
    "\n",
    "- **floor:** Which floor is the flat on\n",
    "\n",
    "- **numberOfFloors:** Number of floors in the building\n",
    "\n",
    "- **noRoomsRange:** Binned number of rooms, 1 to 5\n",
    "\n",
    "- **garden:** Has a garden\n",
    "\n",
    "- **livingSpaceRange:** Binned living space, 1 to 7\n",
    "\n",
    "- **regio2:** District or Kreis, same as geo krs\n",
    "\n",
    "- **regio3:** City/town\n",
    "\n",
    "- **description:** Free text description of the object\n",
    "\n",
    "- **facilities:** Free text description about available facilities\n",
    "\n",
    "- **heatingCosts:** Monthly heating costs in [Euro]\n",
    "\n",
    "- **lastRefurbish:** Year of last renovation\n",
    "\n",
    "- **date:** Time of scraping"
   ]
  },
  {
   "cell_type": "markdown",
   "metadata": {},
   "source": [
    "# 2 - Development"
   ]
  },
  {
   "cell_type": "markdown",
   "metadata": {},
   "source": [
    "Importing the necessary libraries:"
   ]
  },
  {
   "cell_type": "code",
   "execution_count": 1,
   "metadata": {},
   "outputs": [],
   "source": [
    "import pandas as pd\n",
    "import numpy as np\n",
    "import seaborn as sns\n",
    "import geopandas as gpd\n",
    "import matplotlib.pyplot as plt"
   ]
  },
  {
   "cell_type": "markdown",
   "metadata": {},
   "source": [
    "Importing the dataframe:"
   ]
  },
  {
   "cell_type": "code",
   "execution_count": 2,
   "metadata": {},
   "outputs": [],
   "source": [
    "db = pd.read_csv(\"./data/clean_immo_data.csv\")"
   ]
  },
  {
   "cell_type": "markdown",
   "metadata": {},
   "source": [
    "Importing the shapefile to the notebook"
   ]
  },
  {
   "cell_type": "code",
   "execution_count": 3,
   "metadata": {
    "_kg_hide-input": true
   },
   "outputs": [],
   "source": [
    "total_data = gpd.read_file(\"./map/plz-5stellig.shp\")"
   ]
  },
  {
   "cell_type": "code",
   "execution_count": 4,
   "metadata": {
    "_kg_hide-input": true
   },
   "outputs": [
    {
     "data": {
      "text/html": [
       "<div>\n",
       "<style scoped>\n",
       "    .dataframe tbody tr th:only-of-type {\n",
       "        vertical-align: middle;\n",
       "    }\n",
       "\n",
       "    .dataframe tbody tr th {\n",
       "        vertical-align: top;\n",
       "    }\n",
       "\n",
       "    .dataframe thead th {\n",
       "        text-align: right;\n",
       "    }\n",
       "</style>\n",
       "<table border=\"1\" class=\"dataframe\">\n",
       "  <thead>\n",
       "    <tr style=\"text-align: right;\">\n",
       "      <th></th>\n",
       "      <th>plz</th>\n",
       "      <th>note</th>\n",
       "      <th>einwohner</th>\n",
       "      <th>qkm</th>\n",
       "      <th>geometry</th>\n",
       "    </tr>\n",
       "  </thead>\n",
       "  <tbody>\n",
       "    <tr>\n",
       "      <th>0</th>\n",
       "      <td>81248</td>\n",
       "      <td>81248 MÃ¼nchen</td>\n",
       "      <td>121</td>\n",
       "      <td>1.984763</td>\n",
       "      <td>POLYGON ((11.39468 48.14729, 11.3949 48.1478, ...</td>\n",
       "    </tr>\n",
       "    <tr>\n",
       "      <th>1</th>\n",
       "      <td>60315</td>\n",
       "      <td>60315 Frankfurt am Main (FOUR)</td>\n",
       "      <td>0</td>\n",
       "      <td>0.017481</td>\n",
       "      <td>POLYGON ((8.67254 50.11264, 8.67259 50.11264, ...</td>\n",
       "    </tr>\n",
       "    <tr>\n",
       "      <th>2</th>\n",
       "      <td>24988</td>\n",
       "      <td>24988 Oeversee</td>\n",
       "      <td>3350</td>\n",
       "      <td>36.491463</td>\n",
       "      <td>POLYGON ((9.36586 54.69994, 9.36683 54.70014, ...</td>\n",
       "    </tr>\n",
       "    <tr>\n",
       "      <th>3</th>\n",
       "      <td>93185</td>\n",
       "      <td>93185 Michelsneukirchen</td>\n",
       "      <td>1786</td>\n",
       "      <td>32.873844</td>\n",
       "      <td>POLYGON ((12.47666 49.13598, 12.47702 49.13637...</td>\n",
       "    </tr>\n",
       "    <tr>\n",
       "      <th>4</th>\n",
       "      <td>93489</td>\n",
       "      <td>93489 Schorndorf</td>\n",
       "      <td>2622</td>\n",
       "      <td>38.597260</td>\n",
       "      <td>POLYGON ((12.54904 49.19318, 12.54953 49.19371...</td>\n",
       "    </tr>\n",
       "    <tr>\n",
       "      <th>5</th>\n",
       "      <td>93494</td>\n",
       "      <td>93494 Waffenbrunn</td>\n",
       "      <td>2018</td>\n",
       "      <td>25.154035</td>\n",
       "      <td>POLYGON ((12.62945 49.28007, 12.62949 49.28013...</td>\n",
       "    </tr>\n",
       "    <tr>\n",
       "      <th>6</th>\n",
       "      <td>93473</td>\n",
       "      <td>93473 Arnschwang</td>\n",
       "      <td>1931</td>\n",
       "      <td>28.295340</td>\n",
       "      <td>POLYGON ((12.76492 49.27279, 12.76496 49.27288...</td>\n",
       "    </tr>\n",
       "    <tr>\n",
       "      <th>7</th>\n",
       "      <td>99331</td>\n",
       "      <td>99331 Geratal</td>\n",
       "      <td>4523</td>\n",
       "      <td>20.206691</td>\n",
       "      <td>POLYGON ((10.79153 50.69477, 10.79178 50.69819...</td>\n",
       "    </tr>\n",
       "    <tr>\n",
       "      <th>8</th>\n",
       "      <td>60312</td>\n",
       "      <td>60312 Frankfurt am Main (Omniturm)</td>\n",
       "      <td>0</td>\n",
       "      <td>0.001829</td>\n",
       "      <td>POLYGON ((8.67262 50.11164, 8.67311 50.11182, ...</td>\n",
       "    </tr>\n",
       "    <tr>\n",
       "      <th>9</th>\n",
       "      <td>98694</td>\n",
       "      <td>98694 Ilmenau</td>\n",
       "      <td>7028</td>\n",
       "      <td>80.375011</td>\n",
       "      <td>MULTIPOLYGON (((10.82552 50.62792, 10.82616 50...</td>\n",
       "    </tr>\n",
       "  </tbody>\n",
       "</table>\n",
       "</div>"
      ],
      "text/plain": [
       "     plz                                note  einwohner        qkm  \\\n",
       "0  81248                      81248 MÃ¼nchen        121   1.984763   \n",
       "1  60315      60315 Frankfurt am Main (FOUR)          0   0.017481   \n",
       "2  24988                      24988 Oeversee       3350  36.491463   \n",
       "3  93185             93185 Michelsneukirchen       1786  32.873844   \n",
       "4  93489                    93489 Schorndorf       2622  38.597260   \n",
       "5  93494                   93494 Waffenbrunn       2018  25.154035   \n",
       "6  93473                    93473 Arnschwang       1931  28.295340   \n",
       "7  99331                       99331 Geratal       4523  20.206691   \n",
       "8  60312  60312 Frankfurt am Main (Omniturm)          0   0.001829   \n",
       "9  98694                       98694 Ilmenau       7028  80.375011   \n",
       "\n",
       "                                            geometry  \n",
       "0  POLYGON ((11.39468 48.14729, 11.3949 48.1478, ...  \n",
       "1  POLYGON ((8.67254 50.11264, 8.67259 50.11264, ...  \n",
       "2  POLYGON ((9.36586 54.69994, 9.36683 54.70014, ...  \n",
       "3  POLYGON ((12.47666 49.13598, 12.47702 49.13637...  \n",
       "4  POLYGON ((12.54904 49.19318, 12.54953 49.19371...  \n",
       "5  POLYGON ((12.62945 49.28007, 12.62949 49.28013...  \n",
       "6  POLYGON ((12.76492 49.27279, 12.76496 49.27288...  \n",
       "7  POLYGON ((10.79153 50.69477, 10.79178 50.69819...  \n",
       "8  POLYGON ((8.67262 50.11164, 8.67311 50.11182, ...  \n",
       "9  MULTIPOLYGON (((10.82552 50.62792, 10.82616 50...  "
      ]
     },
     "execution_count": 4,
     "metadata": {},
     "output_type": "execute_result"
    }
   ],
   "source": [
    "total_data.head(10)"
   ]
  },
  {
   "cell_type": "code",
   "execution_count": null,
   "metadata": {
    "_kg_hide-input": true
   },
   "outputs": [],
   "source": [
    "total_data.plot(figsize=(20,20))"
   ]
  },
  {
   "cell_type": "markdown",
   "metadata": {},
   "source": [
    "Getting the averages by 5 digit postal code (PLZ). Please note that the entires that do not appear in the average collection will have \"zero\" attributed to them further down the notebook:"
   ]
  },
  {
   "cell_type": "code",
   "execution_count": 6,
   "metadata": {
    "_kg_hide-input": true
   },
   "outputs": [],
   "source": [
    "plz_avg = db.groupby([\"geo_plz\"])[\"totalRent\"].mean()"
   ]
  },
  {
   "cell_type": "code",
   "execution_count": 7,
   "metadata": {
    "_kg_hide-input": true
   },
   "outputs": [],
   "source": [
    "plz_avg = pd.DataFrame(plz_avg)\n",
    "plz_avg.reset_index(drop=False, inplace=True)"
   ]
  },
  {
   "cell_type": "code",
   "execution_count": 8,
   "metadata": {
    "_kg_hide-input": true
   },
   "outputs": [],
   "source": [
    "plz_avg = plz_avg[[\"geo_plz\", \"totalRent\"]]\n",
    "\n",
    "fill_na = pd.DataFrame()\n",
    "fill_na[\"geo_plz\"] = pd.DataFrame(total_data[\"plz\"]).astype(int)"
   ]
  },
  {
   "cell_type": "code",
   "execution_count": 9,
   "metadata": {
    "_kg_hide-input": true
   },
   "outputs": [],
   "source": [
    "fill_na[\"is_in_results\"] = fill_na[\"geo_plz\"].isin(plz_avg[\"geo_plz\"]).astype(int)"
   ]
  },
  {
   "cell_type": "code",
   "execution_count": 10,
   "metadata": {
    "_kg_hide-input": true
   },
   "outputs": [
    {
     "data": {
      "text/html": [
       "<div>\n",
       "<style scoped>\n",
       "    .dataframe tbody tr th:only-of-type {\n",
       "        vertical-align: middle;\n",
       "    }\n",
       "\n",
       "    .dataframe tbody tr th {\n",
       "        vertical-align: top;\n",
       "    }\n",
       "\n",
       "    .dataframe thead th {\n",
       "        text-align: right;\n",
       "    }\n",
       "</style>\n",
       "<table border=\"1\" class=\"dataframe\">\n",
       "  <thead>\n",
       "    <tr style=\"text-align: right;\">\n",
       "      <th></th>\n",
       "      <th>geo_plz</th>\n",
       "      <th>is_in_results</th>\n",
       "    </tr>\n",
       "  </thead>\n",
       "  <tbody>\n",
       "    <tr>\n",
       "      <th>0</th>\n",
       "      <td>81248</td>\n",
       "      <td>1</td>\n",
       "    </tr>\n",
       "    <tr>\n",
       "      <th>1</th>\n",
       "      <td>60315</td>\n",
       "      <td>0</td>\n",
       "    </tr>\n",
       "    <tr>\n",
       "      <th>2</th>\n",
       "      <td>24988</td>\n",
       "      <td>1</td>\n",
       "    </tr>\n",
       "    <tr>\n",
       "      <th>3</th>\n",
       "      <td>93185</td>\n",
       "      <td>0</td>\n",
       "    </tr>\n",
       "    <tr>\n",
       "      <th>4</th>\n",
       "      <td>93489</td>\n",
       "      <td>0</td>\n",
       "    </tr>\n",
       "    <tr>\n",
       "      <th>...</th>\n",
       "      <td>...</td>\n",
       "      <td>...</td>\n",
       "    </tr>\n",
       "    <tr>\n",
       "      <th>8165</th>\n",
       "      <td>63874</td>\n",
       "      <td>0</td>\n",
       "    </tr>\n",
       "    <tr>\n",
       "      <th>8166</th>\n",
       "      <td>63856</td>\n",
       "      <td>1</td>\n",
       "    </tr>\n",
       "    <tr>\n",
       "      <th>8167</th>\n",
       "      <td>63869</td>\n",
       "      <td>1</td>\n",
       "    </tr>\n",
       "    <tr>\n",
       "      <th>8168</th>\n",
       "      <td>75339</td>\n",
       "      <td>1</td>\n",
       "    </tr>\n",
       "    <tr>\n",
       "      <th>8169</th>\n",
       "      <td>53881</td>\n",
       "      <td>1</td>\n",
       "    </tr>\n",
       "  </tbody>\n",
       "</table>\n",
       "<p>8170 rows × 2 columns</p>\n",
       "</div>"
      ],
      "text/plain": [
       "      geo_plz  is_in_results\n",
       "0       81248              1\n",
       "1       60315              0\n",
       "2       24988              1\n",
       "3       93185              0\n",
       "4       93489              0\n",
       "...       ...            ...\n",
       "8165    63874              0\n",
       "8166    63856              1\n",
       "8167    63869              1\n",
       "8168    75339              1\n",
       "8169    53881              1\n",
       "\n",
       "[8170 rows x 2 columns]"
      ]
     },
     "execution_count": 10,
     "metadata": {},
     "output_type": "execute_result"
    }
   ],
   "source": [
    "fill_na"
   ]
  },
  {
   "cell_type": "code",
   "execution_count": 11,
   "metadata": {
    "_kg_hide-input": true
   },
   "outputs": [],
   "source": [
    "to_be_filled = pd.DataFrame()\n",
    "to_be_filled = fill_na.loc[fill_na['is_in_results'] == 0]"
   ]
  },
  {
   "cell_type": "code",
   "execution_count": 12,
   "metadata": {
    "_kg_hide-input": true
   },
   "outputs": [
    {
     "data": {
      "text/html": [
       "<div>\n",
       "<style scoped>\n",
       "    .dataframe tbody tr th:only-of-type {\n",
       "        vertical-align: middle;\n",
       "    }\n",
       "\n",
       "    .dataframe tbody tr th {\n",
       "        vertical-align: top;\n",
       "    }\n",
       "\n",
       "    .dataframe thead th {\n",
       "        text-align: right;\n",
       "    }\n",
       "</style>\n",
       "<table border=\"1\" class=\"dataframe\">\n",
       "  <thead>\n",
       "    <tr style=\"text-align: right;\">\n",
       "      <th></th>\n",
       "      <th>geo_plz</th>\n",
       "      <th>is_in_results</th>\n",
       "    </tr>\n",
       "  </thead>\n",
       "  <tbody>\n",
       "    <tr>\n",
       "      <th>1</th>\n",
       "      <td>60315</td>\n",
       "      <td>0</td>\n",
       "    </tr>\n",
       "    <tr>\n",
       "      <th>3</th>\n",
       "      <td>93185</td>\n",
       "      <td>0</td>\n",
       "    </tr>\n",
       "    <tr>\n",
       "      <th>4</th>\n",
       "      <td>93489</td>\n",
       "      <td>0</td>\n",
       "    </tr>\n",
       "    <tr>\n",
       "      <th>5</th>\n",
       "      <td>93494</td>\n",
       "      <td>0</td>\n",
       "    </tr>\n",
       "    <tr>\n",
       "      <th>6</th>\n",
       "      <td>93473</td>\n",
       "      <td>0</td>\n",
       "    </tr>\n",
       "    <tr>\n",
       "      <th>...</th>\n",
       "      <td>...</td>\n",
       "      <td>...</td>\n",
       "    </tr>\n",
       "    <tr>\n",
       "      <th>8117</th>\n",
       "      <td>76774</td>\n",
       "      <td>0</td>\n",
       "    </tr>\n",
       "    <tr>\n",
       "      <th>8119</th>\n",
       "      <td>76770</td>\n",
       "      <td>0</td>\n",
       "    </tr>\n",
       "    <tr>\n",
       "      <th>8120</th>\n",
       "      <td>76777</td>\n",
       "      <td>0</td>\n",
       "    </tr>\n",
       "    <tr>\n",
       "      <th>8129</th>\n",
       "      <td>76768</td>\n",
       "      <td>0</td>\n",
       "    </tr>\n",
       "    <tr>\n",
       "      <th>8165</th>\n",
       "      <td>63874</td>\n",
       "      <td>0</td>\n",
       "    </tr>\n",
       "  </tbody>\n",
       "</table>\n",
       "<p>1473 rows × 2 columns</p>\n",
       "</div>"
      ],
      "text/plain": [
       "      geo_plz  is_in_results\n",
       "1       60315              0\n",
       "3       93185              0\n",
       "4       93489              0\n",
       "5       93494              0\n",
       "6       93473              0\n",
       "...       ...            ...\n",
       "8117    76774              0\n",
       "8119    76770              0\n",
       "8120    76777              0\n",
       "8129    76768              0\n",
       "8165    63874              0\n",
       "\n",
       "[1473 rows x 2 columns]"
      ]
     },
     "execution_count": 12,
     "metadata": {},
     "output_type": "execute_result"
    }
   ],
   "source": [
    "to_be_filled"
   ]
  },
  {
   "cell_type": "code",
   "execution_count": 14,
   "metadata": {
    "_kg_hide-input": true
   },
   "outputs": [
    {
     "name": "stderr",
     "output_type": "stream",
     "text": [
      "C:\\Users\\Alexis\\AppData\\Local\\Temp\\ipykernel_5836\\2942034173.py:1: SettingWithCopyWarning: \n",
      "A value is trying to be set on a copy of a slice from a DataFrame.\n",
      "Try using .loc[row_indexer,col_indexer] = value instead\n",
      "\n",
      "See the caveats in the documentation: https://pandas.pydata.org/pandas-docs/stable/user_guide/indexing.html#returning-a-view-versus-a-copy\n",
      "  to_be_filled[\"is_in_results\"] = to_be_filled['is_in_results'].replace(0, np.nan)\n"
     ]
    }
   ],
   "source": [
    "to_be_filled[\"is_in_results\"] = to_be_filled['is_in_results'].replace(0, np.nan)"
   ]
  },
  {
   "cell_type": "code",
   "execution_count": 15,
   "metadata": {
    "_kg_hide-input": true
   },
   "outputs": [],
   "source": [
    "to_be_filled.columns = [\"geo_plz\", \"totalRent\"]"
   ]
  },
  {
   "cell_type": "code",
   "execution_count": 16,
   "metadata": {
    "_kg_hide-input": true
   },
   "outputs": [],
   "source": [
    "plz_avg = pd.concat([plz_avg, to_be_filled], axis=0)"
   ]
  },
  {
   "cell_type": "code",
   "execution_count": 17,
   "metadata": {
    "_kg_hide-input": true
   },
   "outputs": [
    {
     "data": {
      "text/html": [
       "<div>\n",
       "<style scoped>\n",
       "    .dataframe tbody tr th:only-of-type {\n",
       "        vertical-align: middle;\n",
       "    }\n",
       "\n",
       "    .dataframe tbody tr th {\n",
       "        vertical-align: top;\n",
       "    }\n",
       "\n",
       "    .dataframe thead th {\n",
       "        text-align: right;\n",
       "    }\n",
       "</style>\n",
       "<table border=\"1\" class=\"dataframe\">\n",
       "  <thead>\n",
       "    <tr style=\"text-align: right;\">\n",
       "      <th></th>\n",
       "      <th>geo_plz</th>\n",
       "      <th>totalRent</th>\n",
       "    </tr>\n",
       "  </thead>\n",
       "  <tbody>\n",
       "    <tr>\n",
       "      <th>0</th>\n",
       "      <td>852</td>\n",
       "      <td>272.000000</td>\n",
       "    </tr>\n",
       "    <tr>\n",
       "      <th>1</th>\n",
       "      <td>853</td>\n",
       "      <td>978.000000</td>\n",
       "    </tr>\n",
       "    <tr>\n",
       "      <th>2</th>\n",
       "      <td>1057</td>\n",
       "      <td>523.333333</td>\n",
       "    </tr>\n",
       "    <tr>\n",
       "      <th>3</th>\n",
       "      <td>1067</td>\n",
       "      <td>1209.412995</td>\n",
       "    </tr>\n",
       "    <tr>\n",
       "      <th>4</th>\n",
       "      <td>1069</td>\n",
       "      <td>718.582011</td>\n",
       "    </tr>\n",
       "    <tr>\n",
       "      <th>...</th>\n",
       "      <td>...</td>\n",
       "      <td>...</td>\n",
       "    </tr>\n",
       "    <tr>\n",
       "      <th>8117</th>\n",
       "      <td>76774</td>\n",
       "      <td>NaN</td>\n",
       "    </tr>\n",
       "    <tr>\n",
       "      <th>8119</th>\n",
       "      <td>76770</td>\n",
       "      <td>NaN</td>\n",
       "    </tr>\n",
       "    <tr>\n",
       "      <th>8120</th>\n",
       "      <td>76777</td>\n",
       "      <td>NaN</td>\n",
       "    </tr>\n",
       "    <tr>\n",
       "      <th>8129</th>\n",
       "      <td>76768</td>\n",
       "      <td>NaN</td>\n",
       "    </tr>\n",
       "    <tr>\n",
       "      <th>8165</th>\n",
       "      <td>63874</td>\n",
       "      <td>NaN</td>\n",
       "    </tr>\n",
       "  </tbody>\n",
       "</table>\n",
       "<p>8835 rows × 2 columns</p>\n",
       "</div>"
      ],
      "text/plain": [
       "      geo_plz    totalRent\n",
       "0         852   272.000000\n",
       "1         853   978.000000\n",
       "2        1057   523.333333\n",
       "3        1067  1209.412995\n",
       "4        1069   718.582011\n",
       "...       ...          ...\n",
       "8117    76774          NaN\n",
       "8119    76770          NaN\n",
       "8120    76777          NaN\n",
       "8129    76768          NaN\n",
       "8165    63874          NaN\n",
       "\n",
       "[8835 rows x 2 columns]"
      ]
     },
     "execution_count": 17,
     "metadata": {},
     "output_type": "execute_result"
    }
   ],
   "source": [
    "plz_avg"
   ]
  },
  {
   "cell_type": "markdown",
   "metadata": {},
   "source": [
    "Appending the averages to the initial shapefile"
   ]
  },
  {
   "cell_type": "code",
   "execution_count": 18,
   "metadata": {
    "_kg_hide-input": true
   },
   "outputs": [],
   "source": [
    "total_data[\"plz\"] = total_data.plz.astype(int)\n",
    "plz_avg[\"geo_plz\"] = plz_avg.geo_plz.astype(int)"
   ]
  },
  {
   "cell_type": "code",
   "execution_count": 19,
   "metadata": {
    "_kg_hide-input": true
   },
   "outputs": [],
   "source": [
    "total_data_final = total_data.merge(plz_avg, left_on=\"plz\", right_on=\"geo_plz\")\n",
    "total_data_final = gpd.GeoDataFrame(total_data_final)"
   ]
  },
  {
   "cell_type": "code",
   "execution_count": 20,
   "metadata": {
    "_kg_hide-input": true
   },
   "outputs": [
    {
     "data": {
      "text/html": [
       "<div>\n",
       "<style scoped>\n",
       "    .dataframe tbody tr th:only-of-type {\n",
       "        vertical-align: middle;\n",
       "    }\n",
       "\n",
       "    .dataframe tbody tr th {\n",
       "        vertical-align: top;\n",
       "    }\n",
       "\n",
       "    .dataframe thead th {\n",
       "        text-align: right;\n",
       "    }\n",
       "</style>\n",
       "<table border=\"1\" class=\"dataframe\">\n",
       "  <thead>\n",
       "    <tr style=\"text-align: right;\">\n",
       "      <th></th>\n",
       "      <th>plz</th>\n",
       "      <th>note</th>\n",
       "      <th>einwohner</th>\n",
       "      <th>qkm</th>\n",
       "      <th>geometry</th>\n",
       "      <th>geo_plz</th>\n",
       "      <th>totalRent</th>\n",
       "    </tr>\n",
       "  </thead>\n",
       "  <tbody>\n",
       "    <tr>\n",
       "      <th>0</th>\n",
       "      <td>81248</td>\n",
       "      <td>81248 MÃ¼nchen</td>\n",
       "      <td>121</td>\n",
       "      <td>1.984763</td>\n",
       "      <td>POLYGON ((11.39468 48.14729, 11.3949 48.1478, ...</td>\n",
       "      <td>81248</td>\n",
       "      <td>980.190000</td>\n",
       "    </tr>\n",
       "    <tr>\n",
       "      <th>1</th>\n",
       "      <td>60315</td>\n",
       "      <td>60315 Frankfurt am Main (FOUR)</td>\n",
       "      <td>0</td>\n",
       "      <td>0.017481</td>\n",
       "      <td>POLYGON ((8.67254 50.11264, 8.67259 50.11264, ...</td>\n",
       "      <td>60315</td>\n",
       "      <td>NaN</td>\n",
       "    </tr>\n",
       "    <tr>\n",
       "      <th>2</th>\n",
       "      <td>24988</td>\n",
       "      <td>24988 Oeversee</td>\n",
       "      <td>3350</td>\n",
       "      <td>36.491463</td>\n",
       "      <td>POLYGON ((9.36586 54.69994, 9.36683 54.70014, ...</td>\n",
       "      <td>24988</td>\n",
       "      <td>856.666667</td>\n",
       "    </tr>\n",
       "    <tr>\n",
       "      <th>3</th>\n",
       "      <td>93185</td>\n",
       "      <td>93185 Michelsneukirchen</td>\n",
       "      <td>1786</td>\n",
       "      <td>32.873844</td>\n",
       "      <td>POLYGON ((12.47666 49.13598, 12.47702 49.13637...</td>\n",
       "      <td>93185</td>\n",
       "      <td>NaN</td>\n",
       "    </tr>\n",
       "    <tr>\n",
       "      <th>4</th>\n",
       "      <td>93489</td>\n",
       "      <td>93489 Schorndorf</td>\n",
       "      <td>2622</td>\n",
       "      <td>38.597260</td>\n",
       "      <td>POLYGON ((12.54904 49.19318, 12.54953 49.19371...</td>\n",
       "      <td>93489</td>\n",
       "      <td>NaN</td>\n",
       "    </tr>\n",
       "    <tr>\n",
       "      <th>...</th>\n",
       "      <td>...</td>\n",
       "      <td>...</td>\n",
       "      <td>...</td>\n",
       "      <td>...</td>\n",
       "      <td>...</td>\n",
       "      <td>...</td>\n",
       "      <td>...</td>\n",
       "    </tr>\n",
       "    <tr>\n",
       "      <th>8165</th>\n",
       "      <td>63874</td>\n",
       "      <td>63874 Dammbach</td>\n",
       "      <td>1819</td>\n",
       "      <td>32.868150</td>\n",
       "      <td>POLYGON ((9.28704 49.86601, 9.28707 49.86608, ...</td>\n",
       "      <td>63874</td>\n",
       "      <td>NaN</td>\n",
       "    </tr>\n",
       "    <tr>\n",
       "      <th>8166</th>\n",
       "      <td>63856</td>\n",
       "      <td>63856 Bessenbach</td>\n",
       "      <td>5844</td>\n",
       "      <td>29.859154</td>\n",
       "      <td>POLYGON ((9.21845 49.96548, 9.22015 49.96586, ...</td>\n",
       "      <td>63856</td>\n",
       "      <td>1359.000000</td>\n",
       "    </tr>\n",
       "    <tr>\n",
       "      <th>8167</th>\n",
       "      <td>63869</td>\n",
       "      <td>63869 HeigenbrÃ¼cken</td>\n",
       "      <td>2208</td>\n",
       "      <td>8.415089</td>\n",
       "      <td>POLYGON ((9.30293 50.04595, 9.30574 50.05, 9.3...</td>\n",
       "      <td>63869</td>\n",
       "      <td>750.000000</td>\n",
       "    </tr>\n",
       "    <tr>\n",
       "      <th>8168</th>\n",
       "      <td>75339</td>\n",
       "      <td>75339 HÃ¶fen an der Enz</td>\n",
       "      <td>1619</td>\n",
       "      <td>9.081771</td>\n",
       "      <td>POLYGON ((8.55002 48.79175, 8.55007 48.79177, ...</td>\n",
       "      <td>75339</td>\n",
       "      <td>757.724735</td>\n",
       "    </tr>\n",
       "    <tr>\n",
       "      <th>8169</th>\n",
       "      <td>53881</td>\n",
       "      <td>53881 Euskirchen</td>\n",
       "      <td>27256</td>\n",
       "      <td>127.741805</td>\n",
       "      <td>POLYGON ((6.71045 50.68109, 6.7122 50.6829, 6....</td>\n",
       "      <td>53881</td>\n",
       "      <td>737.010357</td>\n",
       "    </tr>\n",
       "  </tbody>\n",
       "</table>\n",
       "<p>8170 rows × 7 columns</p>\n",
       "</div>"
      ],
      "text/plain": [
       "        plz                            note  einwohner         qkm  \\\n",
       "0     81248                  81248 MÃ¼nchen        121    1.984763   \n",
       "1     60315  60315 Frankfurt am Main (FOUR)          0    0.017481   \n",
       "2     24988                  24988 Oeversee       3350   36.491463   \n",
       "3     93185         93185 Michelsneukirchen       1786   32.873844   \n",
       "4     93489                93489 Schorndorf       2622   38.597260   \n",
       "...     ...                             ...        ...         ...   \n",
       "8165  63874                  63874 Dammbach       1819   32.868150   \n",
       "8166  63856                63856 Bessenbach       5844   29.859154   \n",
       "8167  63869            63869 HeigenbrÃ¼cken       2208    8.415089   \n",
       "8168  75339         75339 HÃ¶fen an der Enz       1619    9.081771   \n",
       "8169  53881                53881 Euskirchen      27256  127.741805   \n",
       "\n",
       "                                               geometry  geo_plz    totalRent  \n",
       "0     POLYGON ((11.39468 48.14729, 11.3949 48.1478, ...    81248   980.190000  \n",
       "1     POLYGON ((8.67254 50.11264, 8.67259 50.11264, ...    60315          NaN  \n",
       "2     POLYGON ((9.36586 54.69994, 9.36683 54.70014, ...    24988   856.666667  \n",
       "3     POLYGON ((12.47666 49.13598, 12.47702 49.13637...    93185          NaN  \n",
       "4     POLYGON ((12.54904 49.19318, 12.54953 49.19371...    93489          NaN  \n",
       "...                                                 ...      ...          ...  \n",
       "8165  POLYGON ((9.28704 49.86601, 9.28707 49.86608, ...    63874          NaN  \n",
       "8166  POLYGON ((9.21845 49.96548, 9.22015 49.96586, ...    63856  1359.000000  \n",
       "8167  POLYGON ((9.30293 50.04595, 9.30574 50.05, 9.3...    63869   750.000000  \n",
       "8168  POLYGON ((8.55002 48.79175, 8.55007 48.79177, ...    75339   757.724735  \n",
       "8169  POLYGON ((6.71045 50.68109, 6.7122 50.6829, 6....    53881   737.010357  \n",
       "\n",
       "[8170 rows x 7 columns]"
      ]
     },
     "execution_count": 20,
     "metadata": {},
     "output_type": "execute_result"
    }
   ],
   "source": [
    "total_data_final"
   ]
  },
  {
   "cell_type": "code",
   "execution_count": 21,
   "metadata": {
    "_kg_hide-input": true
   },
   "outputs": [
    {
     "name": "stdout",
     "output_type": "stream",
     "text": [
      "<class 'geopandas.geodataframe.GeoDataFrame'>\n",
      "RangeIndex: 8170 entries, 0 to 8169\n",
      "Data columns (total 7 columns):\n",
      " #   Column     Non-Null Count  Dtype   \n",
      "---  ------     --------------  -----   \n",
      " 0   plz        8170 non-null   int64   \n",
      " 1   note       8170 non-null   object  \n",
      " 2   einwohner  8170 non-null   int32   \n",
      " 3   qkm        8170 non-null   float64 \n",
      " 4   geometry   8170 non-null   geometry\n",
      " 5   geo_plz    8170 non-null   int64   \n",
      " 6   totalRent  6697 non-null   float64 \n",
      "dtypes: float64(2), geometry(1), int32(1), int64(2), object(1)\n",
      "memory usage: 415.0+ KB\n"
     ]
    }
   ],
   "source": [
    "total_data_final.info()"
   ]
  },
  {
   "cell_type": "markdown",
   "metadata": {},
   "source": [
    "Plotting the final data:"
   ]
  },
  {
   "cell_type": "code",
   "execution_count": null,
   "metadata": {
    "_kg_hide-input": true
   },
   "outputs": [],
   "source": [
    "total_data_final.plot(figsize=(20,20))"
   ]
  },
  {
   "cell_type": "markdown",
   "metadata": {},
   "source": [
    "Setting the parameters for plotting the map:"
   ]
  },
  {
   "cell_type": "code",
   "execution_count": 23,
   "metadata": {
    "_kg_hide-input": true
   },
   "outputs": [],
   "source": [
    "plt.rcParams[\"figure.figsize\"] = (50,50)"
   ]
  },
  {
   "cell_type": "markdown",
   "metadata": {
    "execution": {
     "iopub.execute_input": "2022-05-24T00:06:46.840212Z",
     "iopub.status.busy": "2022-05-24T00:06:46.839643Z",
     "iopub.status.idle": "2022-05-24T00:06:46.84701Z",
     "shell.execute_reply": "2022-05-24T00:06:46.845966Z",
     "shell.execute_reply.started": "2022-05-24T00:06:46.840172Z"
    }
   },
   "source": [
    "Final plot:"
   ]
  },
  {
   "cell_type": "code",
   "execution_count": null,
   "metadata": {
    "_kg_hide-input": true
   },
   "outputs": [],
   "source": [
    "fig, ax = plt.subplots(1)\n",
    "\n",
    "ax.axis('off')\n",
    "\n",
    "ax.set_title(\"Average Rent in Euros by German 5-digit \\\"Postleitzahl\\\" (Zip Code)\", fontdict={'fontsize': '50', 'fontweight': '10'})\n",
    "\n",
    "total_data_final.plot(column=\"totalRent\",\n",
    "                      ax=ax,\n",
    "                      legend=True,\n",
    "                      scheme=\"natural_breaks\",\n",
    "                      k=20,\n",
    "                      #cmap = 'cividis',\n",
    "                      edgecolor = \"0\",\n",
    "                      linewidth = 0.001,\n",
    "                      missing_kwds={\"color\": \"white\",\n",
    "                                    \"edgecolor\": \"red\",\n",
    "                                    \"hatch\": \"///\",\n",
    "                                    \"label\": \"Missing values\"});\n",
    "\n",
    "ax.annotate(\"Souce: Kaggle Dataset\", xy=(0.1, .08), xycoords='figure fraction', horizontalalignment='left', \n",
    "            verticalalignment='bottom', fontsize=25)\n",
    "\n",
    "fig.savefig('map.eps', format='eps')\n",
    "fig.savefig('map2.svg', format='svg')"
   ]
  },
  {
   "cell_type": "code",
   "execution_count": 27,
   "metadata": {},
   "outputs": [],
   "source": [
    "import pandas as pd\n",
    "import numpy as np\n",
    "import geopandas as gpd\n",
    "import plotly.express as px\n",
    "\n",
    "#db = pd.read_csv(\"./input/apartment-rental-offers-in-germany/immo_data.csv\")\n",
    "\n",
    "#db.drop([239533, 109047, 23490, 79903, 260259, 8406], inplace=True)\n",
    "\n",
    "#cor = db.corr()\n",
    "\n",
    "total_data = gpd.read_file(\"./map/plz-5stellig.shp\")\n",
    "total_data[\"plz\"] = total_data[\"plz\"].astype(int)\n",
    "\n",
    "plz_avg = db.groupby(\"geo_plz\")[\"totalRent\"].mean().reset_index()\n",
    "plz_avg[\"geo_plz\"] = plz_avg[\"geo_plz\"].astype(int)\n",
    "\n",
    "merged_data = pd.merge(total_data, plz_avg, left_on=\"plz\", right_on=\"geo_plz\")\n",
    "\n",
    "fig = px.choropleth_mapbox(\n",
    "    merged_data,\n",
    "    geojson=merged_data.geometry,\n",
    "    locations=merged_data.index,\n",
    "    color=\"totalRent\",\n",
    "    hover_data=[\"plz\"],  # Add the 'plz' column to the hover data\n",
    "    mapbox_style=\"carto-positron\",\n",
    "    zoom=5,\n",
    "    center={\"lat\": 51.1657, \"lon\": 10.4515},\n",
    "    opacity=0.7,\n",
    "    labels={\"totalRent\": \"Average Rent (Euros)\"},\n",
    ")\n",
    "\n",
    "fig.update_layout(\n",
    "    title_text=\"Average Rent in Euros by German 5-digit 'Postleitzahl' (Zip Code)\",\n",
    "    title_font=dict(size=25),\n",
    "    margin={\"r\": 0, \"t\": 0, \"l\": 0, \"b\": 0},\n",
    "    coloraxis_colorbar=dict(title=\"Average Rent (Euros)\"),\n",
    ")\n",
    "\n",
    "fig.update_geos(fitbounds=\"locations\", visible=False)\n",
    "\n",
    "fig.write_html(\"interactive_graph.html\")\n"
   ]
  },
  {
   "cell_type": "code",
   "execution_count": 28,
   "metadata": {},
   "outputs": [],
   "source": [
    "import pandas as pd\n",
    "import numpy as np\n",
    "import geopandas as gpd\n",
    "import plotly.express as px\n",
    "\n",
    "#db = pd.read_csv(\"./input/apartment-rental-offers-in-germany/immo_data.csv\")\n",
    "\n",
    "#db.drop([239533, 109047, 23490, 79903, 260259, 8406], inplace=True)\n",
    "\n",
    "#cor = db.corr()\n",
    "\n",
    "total_data = gpd.read_file(\"./map/plz-5stellig.shp\")\n",
    "total_data[\"plz\"] = total_data[\"plz\"].astype(int)\n",
    "\n",
    "plz_avg = db.groupby(\"geo_plz\")[\"totalRent_per_sqm\"].mean().reset_index()\n",
    "plz_avg[\"geo_plz\"] = plz_avg[\"geo_plz\"].astype(int)\n",
    "\n",
    "merged_data = pd.merge(total_data, plz_avg, left_on=\"plz\", right_on=\"geo_plz\")\n",
    "\n",
    "fig = px.choropleth_mapbox(\n",
    "    merged_data,\n",
    "    geojson=merged_data.geometry,\n",
    "    locations=merged_data.index,\n",
    "    color=\"totalRent_per_sqm\",\n",
    "    hover_data=[\"plz\"],  # Add the 'plz' column to the hover data\n",
    "    mapbox_style=\"carto-positron\",\n",
    "    zoom=5,\n",
    "    center={\"lat\": 51.1657, \"lon\": 10.4515},\n",
    "    opacity=0.5,\n",
    "    labels={\"totalRent\": \"Average Rent per m^2 (Euros)\"},\n",
    ")\n",
    "\n",
    "fig.update_layout(\n",
    "    title_text=\"Average Rent in Euros by German 5-digit 'Postleitzahl' (Zip Code)\",\n",
    "    title_font=dict(size=25),\n",
    "    margin={\"r\": 0, \"t\": 0, \"l\": 0, \"b\": 0},\n",
    "    coloraxis_colorbar=dict(title=\"Average Rent per m^2 (Euros)\"),\n",
    ")\n",
    "\n",
    "fig.update_geos(fitbounds=\"locations\", visible=False)\n",
    "\n",
    "fig.write_html(\"totalRent_per_sqm_interactive_graph.html\")"
   ]
  },
  {
   "cell_type": "code",
   "execution_count": 29,
   "metadata": {},
   "outputs": [],
   "source": [
    "import pandas as pd\n",
    "import numpy as np\n",
    "import geopandas as gpd\n",
    "import plotly.express as px\n",
    "\n",
    "total_data = gpd.read_file(\"./map/plz-5stellig.shp\")\n",
    "total_data[\"plz\"] = total_data[\"plz\"].astype(int)\n",
    "\n",
    "plz_avg = db.groupby(\"geo_plz\")[\"totalRent_per_sqm\"].mean().reset_index()\n",
    "plz_avg[\"geo_plz\"] = plz_avg[\"geo_plz\"].astype(int)\n",
    "\n",
    "merged_data = pd.merge(total_data, plz_avg, left_on=\"plz\", right_on=\"geo_plz\")\n",
    "\n",
    "fig = px.choropleth_mapbox(\n",
    "    merged_data,\n",
    "    geojson=merged_data.geometry,\n",
    "    locations=merged_data.index,\n",
    "    color=\"totalRent_per_sqm\",\n",
    "    hover_data=[\"plz\"],  # Add the 'plz' column to the hover data\n",
    "    mapbox_style=\"carto-positron\", \n",
    "    zoom=5,\n",
    "    center={\"lat\": 51.1657, \"lon\": 10.4515},\n",
    "    opacity=0.8,\n",
    "    color_continuous_scale=\"turbo\",  # Choose a suitable color scale,\n",
    "    labels={\"totalRent\": r\"Average Rent per $m^2$ (Euros)\"},\n",
    ")\n",
    "\n",
    "fig.update_layout(\n",
    "    title_text=\"Average Rent in Euros by German 5-digit 'Postleitzahl' (Zip Code)\",\n",
    "    title_font=dict(size=25),\n",
    "    margin={\"r\": 0, \"t\": 0, \"l\": 0, \"b\": 0},\n",
    "    coloraxis_colorbar=dict(title=r\"Average Rent per $m^2$ (Euros)\"),\n",
    ")\n",
    "\n",
    "fig.update_geos(fitbounds=\"locations\", visible=False)\n",
    "\n",
    "fig.write_html(\"totalRent_per_sqm_interactive_graph_turbo.html\")"
   ]
  },
  {
   "cell_type": "code",
   "execution_count": 30,
   "metadata": {},
   "outputs": [],
   "source": [
    "\n",
    "total_data = gpd.read_file(\"./map/plz-5stellig.shp\")\n",
    "total_data[\"plz\"] = total_data[\"plz\"].astype(int)\n",
    "\n",
    "plz_avg = db.groupby(\"geo_plz\")[\"totalRent\"].mean().reset_index()\n",
    "plz_avg[\"geo_plz\"] = plz_avg[\"geo_plz\"].astype(int)\n",
    "\n",
    "merged_data = pd.merge(total_data, plz_avg, left_on=\"plz\", right_on=\"geo_plz\")\n",
    "\n",
    "fig = px.choropleth_mapbox(\n",
    "    merged_data,\n",
    "    geojson=merged_data.geometry,\n",
    "    locations=merged_data.index,\n",
    "    color=\"totalRent\",\n",
    "    hover_data=[\"plz\"],  # Add the 'plz' column to the hover data\n",
    "    mapbox_style=\"carto-positron\", \n",
    "    zoom=5,\n",
    "    center={\"lat\": 51.1657, \"lon\": 10.4515},\n",
    "    opacity=0.6,\n",
    "    color_continuous_scale=\"turbo\",  # Choose a suitable color scale,\n",
    "    labels={\"totalRent\": r\"Average Rent (Euros)\"},\n",
    ")\n",
    "\n",
    "fig.update_layout(\n",
    "    title_text=\"Average Rent in Euros by German 5-digit 'Postleitzahl' (Zip Code)\",\n",
    "    title_font=dict(size=25),\n",
    "    margin={\"r\": 0, \"t\": 0, \"l\": 0, \"b\": 0},\n",
    "    coloraxis_colorbar=dict(title=r\"Average Rent (Euros)\"),\n",
    ")\n",
    "\n",
    "fig.update_geos(fitbounds=\"locations\", visible=False)\n",
    "\n",
    "fig.write_html(\"totalRent_interactive_graph_turbo.html\")"
   ]
  },
  {
   "cell_type": "code",
   "execution_count": null,
   "metadata": {},
   "outputs": [],
   "source": []
  },
  {
   "cell_type": "markdown",
   "metadata": {},
   "source": [
    "# Have rents gone up?"
   ]
  },
  {
   "cell_type": "code",
   "execution_count": 42,
   "metadata": {},
   "outputs": [
    {
     "name": "stdout",
     "output_type": "stream",
     "text": [
      "['May19' 'Oct19' 'Feb20' 'Sep18']\n"
     ]
    },
    {
     "ename": "ValueError",
     "evalue": "Cannot set a DataFrame with multiple columns to the single column totalRent_per_sqmMay19",
     "output_type": "error",
     "traceback": [
      "\u001b[1;31m---------------------------------------------------------------------------\u001b[0m",
      "\u001b[1;31mValueError\u001b[0m                                Traceback (most recent call last)",
      "\u001b[1;32m~\\AppData\\Local\\Temp\\ipykernel_5836\\2525629892.py\u001b[0m in \u001b[0;36m?\u001b[1;34m()\u001b[0m\n\u001b[0;32m      9\u001b[0m \u001b[1;33m\u001b[0m\u001b[0m\n\u001b[0;32m     10\u001b[0m \u001b[1;32mfor\u001b[0m \u001b[0mdate\u001b[0m \u001b[1;32min\u001b[0m \u001b[0mdates_list\u001b[0m\u001b[1;33m:\u001b[0m\u001b[1;33m\u001b[0m\u001b[1;33m\u001b[0m\u001b[0m\n\u001b[0;32m     11\u001b[0m     \u001b[0mdb_sep18\u001b[0m\u001b[1;33m=\u001b[0m\u001b[0mdb\u001b[0m\u001b[1;33m[\u001b[0m\u001b[0mdb\u001b[0m\u001b[1;33m[\u001b[0m\u001b[1;34m'date'\u001b[0m\u001b[1;33m]\u001b[0m\u001b[1;33m==\u001b[0m\u001b[0mdates_list\u001b[0m\u001b[1;33m[\u001b[0m\u001b[1;36m3\u001b[0m\u001b[1;33m]\u001b[0m\u001b[1;33m]\u001b[0m\u001b[1;33m\u001b[0m\u001b[1;33m\u001b[0m\u001b[0m\n\u001b[0;32m     12\u001b[0m     \u001b[0mtemp_db\u001b[0m\u001b[1;33m=\u001b[0m\u001b[0mdb\u001b[0m\u001b[1;33m[\u001b[0m\u001b[0mdb\u001b[0m\u001b[1;33m[\u001b[0m\u001b[1;34m'date'\u001b[0m\u001b[1;33m]\u001b[0m\u001b[1;33m==\u001b[0m\u001b[0mdate\u001b[0m\u001b[1;33m]\u001b[0m\u001b[1;33m\u001b[0m\u001b[1;33m\u001b[0m\u001b[0m\n\u001b[1;32m---> 13\u001b[1;33m     \u001b[0msimple_by_date_evolution\u001b[0m\u001b[1;33m[\u001b[0m\u001b[1;34m\"totalRent_per_sqm\"\u001b[0m\u001b[1;33m+\u001b[0m\u001b[0mdate\u001b[0m\u001b[1;33m]\u001b[0m\u001b[1;33m=\u001b[0m\u001b[0mtemp_db\u001b[0m\u001b[1;33m.\u001b[0m\u001b[0mgroupby\u001b[0m\u001b[1;33m(\u001b[0m\u001b[1;34m\"geo_plz\"\u001b[0m\u001b[1;33m)\u001b[0m\u001b[1;33m[\u001b[0m\u001b[1;34m\"totalRent_per_sqm\"\u001b[0m\u001b[1;33m]\u001b[0m\u001b[1;33m.\u001b[0m\u001b[0mmean\u001b[0m\u001b[1;33m(\u001b[0m\u001b[1;33m)\u001b[0m\u001b[1;33m.\u001b[0m\u001b[0mreset_index\u001b[0m\u001b[1;33m(\u001b[0m\u001b[1;33m)\u001b[0m \u001b[1;33m-\u001b[0m \u001b[0mdb_sep18\u001b[0m\u001b[1;33m.\u001b[0m\u001b[0mgroupby\u001b[0m\u001b[1;33m(\u001b[0m\u001b[1;34m\"geo_plz\"\u001b[0m\u001b[1;33m)\u001b[0m\u001b[1;33m[\u001b[0m\u001b[1;34m\"totalRent_per_sqm\"\u001b[0m\u001b[1;33m]\u001b[0m\u001b[1;33m.\u001b[0m\u001b[0mmean\u001b[0m\u001b[1;33m(\u001b[0m\u001b[1;33m)\u001b[0m\u001b[1;33m.\u001b[0m\u001b[0mreset_index\u001b[0m\u001b[1;33m(\u001b[0m\u001b[1;33m)\u001b[0m\u001b[1;33m\u001b[0m\u001b[1;33m\u001b[0m\u001b[0m\n\u001b[0m\u001b[0;32m     14\u001b[0m \u001b[1;33m\u001b[0m\u001b[0m\n\u001b[0;32m     15\u001b[0m \u001b[1;33m\u001b[0m\u001b[0m\n",
      "\u001b[1;32mC:\\DEV\\SharedAppartmentCalculator\\SharedAppartmentCalculator\\.venv\\Lib\\site-packages\\pandas\\core\\frame.py\u001b[0m in \u001b[0;36m?\u001b[1;34m(self, key, value)\u001b[0m\n\u001b[0;32m   4297\u001b[0m             \u001b[0mself\u001b[0m\u001b[1;33m.\u001b[0m\u001b[0m_setitem_frame\u001b[0m\u001b[1;33m(\u001b[0m\u001b[0mkey\u001b[0m\u001b[1;33m,\u001b[0m \u001b[0mvalue\u001b[0m\u001b[1;33m)\u001b[0m\u001b[1;33m\u001b[0m\u001b[1;33m\u001b[0m\u001b[0m\n\u001b[0;32m   4298\u001b[0m         \u001b[1;32melif\u001b[0m \u001b[0misinstance\u001b[0m\u001b[1;33m(\u001b[0m\u001b[0mkey\u001b[0m\u001b[1;33m,\u001b[0m \u001b[1;33m(\u001b[0m\u001b[0mSeries\u001b[0m\u001b[1;33m,\u001b[0m \u001b[0mnp\u001b[0m\u001b[1;33m.\u001b[0m\u001b[0mndarray\u001b[0m\u001b[1;33m,\u001b[0m \u001b[0mlist\u001b[0m\u001b[1;33m,\u001b[0m \u001b[0mIndex\u001b[0m\u001b[1;33m)\u001b[0m\u001b[1;33m)\u001b[0m\u001b[1;33m:\u001b[0m\u001b[1;33m\u001b[0m\u001b[1;33m\u001b[0m\u001b[0m\n\u001b[0;32m   4299\u001b[0m             \u001b[0mself\u001b[0m\u001b[1;33m.\u001b[0m\u001b[0m_setitem_array\u001b[0m\u001b[1;33m(\u001b[0m\u001b[0mkey\u001b[0m\u001b[1;33m,\u001b[0m \u001b[0mvalue\u001b[0m\u001b[1;33m)\u001b[0m\u001b[1;33m\u001b[0m\u001b[1;33m\u001b[0m\u001b[0m\n\u001b[0;32m   4300\u001b[0m         \u001b[1;32melif\u001b[0m \u001b[0misinstance\u001b[0m\u001b[1;33m(\u001b[0m\u001b[0mvalue\u001b[0m\u001b[1;33m,\u001b[0m \u001b[0mDataFrame\u001b[0m\u001b[1;33m)\u001b[0m\u001b[1;33m:\u001b[0m\u001b[1;33m\u001b[0m\u001b[1;33m\u001b[0m\u001b[0m\n\u001b[1;32m-> 4301\u001b[1;33m             \u001b[0mself\u001b[0m\u001b[1;33m.\u001b[0m\u001b[0m_set_item_frame_value\u001b[0m\u001b[1;33m(\u001b[0m\u001b[0mkey\u001b[0m\u001b[1;33m,\u001b[0m \u001b[0mvalue\u001b[0m\u001b[1;33m)\u001b[0m\u001b[1;33m\u001b[0m\u001b[1;33m\u001b[0m\u001b[0m\n\u001b[0m\u001b[0;32m   4302\u001b[0m         elif (\n\u001b[0;32m   4303\u001b[0m             \u001b[0mis_list_like\u001b[0m\u001b[1;33m(\u001b[0m\u001b[0mvalue\u001b[0m\u001b[1;33m)\u001b[0m\u001b[1;33m\u001b[0m\u001b[1;33m\u001b[0m\u001b[0m\n\u001b[0;32m   4304\u001b[0m             \u001b[1;32mand\u001b[0m \u001b[1;32mnot\u001b[0m \u001b[0mself\u001b[0m\u001b[1;33m.\u001b[0m\u001b[0mcolumns\u001b[0m\u001b[1;33m.\u001b[0m\u001b[0mis_unique\u001b[0m\u001b[1;33m\u001b[0m\u001b[1;33m\u001b[0m\u001b[0m\n",
      "\u001b[1;32mC:\\DEV\\SharedAppartmentCalculator\\SharedAppartmentCalculator\\.venv\\Lib\\site-packages\\pandas\\core\\frame.py\u001b[0m in \u001b[0;36m?\u001b[1;34m(self, key, value)\u001b[0m\n\u001b[0;32m   4455\u001b[0m \u001b[1;33m\u001b[0m\u001b[0m\n\u001b[0;32m   4456\u001b[0m             \u001b[1;32mreturn\u001b[0m \u001b[0mself\u001b[0m\u001b[1;33m.\u001b[0m\u001b[0misetitem\u001b[0m\u001b[1;33m(\u001b[0m\u001b[0mlocs\u001b[0m\u001b[1;33m,\u001b[0m \u001b[0mvalue\u001b[0m\u001b[1;33m)\u001b[0m\u001b[1;33m\u001b[0m\u001b[1;33m\u001b[0m\u001b[0m\n\u001b[0;32m   4457\u001b[0m \u001b[1;33m\u001b[0m\u001b[0m\n\u001b[0;32m   4458\u001b[0m         \u001b[1;32mif\u001b[0m \u001b[0mlen\u001b[0m\u001b[1;33m(\u001b[0m\u001b[0mvalue\u001b[0m\u001b[1;33m.\u001b[0m\u001b[0mcolumns\u001b[0m\u001b[1;33m)\u001b[0m \u001b[1;33m>\u001b[0m \u001b[1;36m1\u001b[0m\u001b[1;33m:\u001b[0m\u001b[1;33m\u001b[0m\u001b[1;33m\u001b[0m\u001b[0m\n\u001b[1;32m-> 4459\u001b[1;33m             raise ValueError(\n\u001b[0m\u001b[0;32m   4460\u001b[0m                 \u001b[1;34m\"Cannot set a DataFrame with multiple columns to the single \"\u001b[0m\u001b[1;33m\u001b[0m\u001b[1;33m\u001b[0m\u001b[0m\n\u001b[0;32m   4461\u001b[0m                 \u001b[1;33mf\"\u001b[0m\u001b[1;33mcolumn \u001b[0m\u001b[1;33m{\u001b[0m\u001b[0mkey\u001b[0m\u001b[1;33m}\u001b[0m\u001b[1;33m\"\u001b[0m\u001b[1;33m\u001b[0m\u001b[1;33m\u001b[0m\u001b[0m\n\u001b[0;32m   4462\u001b[0m             \u001b[1;33m)\u001b[0m\u001b[1;33m\u001b[0m\u001b[1;33m\u001b[0m\u001b[0m\n",
      "\u001b[1;31mValueError\u001b[0m: Cannot set a DataFrame with multiple columns to the single column totalRent_per_sqmMay19"
     ]
    }
   ],
   "source": [
    "dates_list=db['date'].unique() #esto se puede hacer mas lindo\n",
    "num_plz=len(db['geo_plz'].unique() )\n",
    "\n",
    "print(dates_list)\n",
    "\n",
    "simple_by_date_evolution=pd.DataFrame()\n",
    "plz_avg=db.groupby(\"geo_plz\")[\"totalRent_per_sqm\"].mean().reset_index()\n",
    "simple_by_date_evolution['geo_plz']=plz_avg['geo_plz']\n",
    "\n",
    "for date in dates_list:\n",
    "    db_sep18=db[db['date']==dates_list[3]]\n",
    "    temp_db=db[db['date']==date]\n",
    "    simple_by_date_evolution[\"totalRent_per_sqm\"+date]=temp_db.groupby(\"geo_plz\")[\"totalRent_per_sqm\"].mean().reset_index() - db_sep18.groupby(\"geo_plz\")[\"totalRent_per_sqm\"].mean().reset_index()\n",
    "    \n",
    "\n"
   ]
  },
  {
   "cell_type": "code",
   "execution_count": 76,
   "metadata": {},
   "outputs": [
    {
     "data": {
      "text/plain": [
       "<Axes: >"
      ]
     },
     "execution_count": 76,
     "metadata": {},
     "output_type": "execute_result"
    },
    {
     "data": {
      "image/png": "[encoded data removed]",
      "text/plain": [
       "<Figure size 5000x5000 with 1 Axes>"
      ]
     },
     "metadata": {},
     "output_type": "display_data"
    }
   ],
   "source": [
    "minidb=db[['geo_plz','totalRent_per_sqm','date']]\n",
    "plz=db['geo_plz'].unique()\n",
    "minidb2=minidb.groupby('date')\n",
    "minidb_plz=minidb[minidb['date']=='May19']\n",
    "minidb_plz[minidb_plz['geo_plz']==plz[30]]['totalRent_per_sqm'].hist()\n",
    "#Gotta clean all the plz with less than 50 data points in any time and plz."
   ]
  },
  {
   "cell_type": "code",
   "execution_count": 68,
   "metadata": {},
   "outputs": [
    {
     "data": {
      "text/plain": [
       "array([44229, 38118,  1705])"
      ]
     },
     "execution_count": 68,
     "metadata": {},
     "output_type": "execute_result"
    }
   ],
   "source": [
    "plz[[10,20,30]]"
   ]
  },
  {
   "cell_type": "markdown",
   "metadata": {
    "execution": {
     "iopub.execute_input": "2022-05-24T00:10:33.588909Z",
     "iopub.status.busy": "2022-05-24T00:10:33.588624Z",
     "iopub.status.idle": "2022-05-24T00:10:33.594221Z",
     "shell.execute_reply": "2022-05-24T00:10:33.592984Z",
     "shell.execute_reply.started": "2022-05-24T00:10:33.588879Z"
    }
   },
   "source": [
    "In order to see the full map in vector format, feel free to enter [my Google Drive folder](https://drive.google.com/drive/folders/1OejsL2djv4bDr4JgxlePzff90hW9tEQx?usp=sharing) and download the final plot."
   ]
  },
  {
   "cell_type": "markdown",
   "metadata": {},
   "source": [
    "Credit for the shapefile:\n",
    "https://www.suche-postleitzahl.org/"
   ]
  },
  {
   "cell_type": "markdown",
   "metadata": {
    "execution": {
     "iopub.execute_input": "2022-05-24T00:17:43.910631Z",
     "iopub.status.busy": "2022-05-24T00:17:43.909918Z",
     "iopub.status.idle": "2022-05-24T00:17:43.918827Z",
     "shell.execute_reply": "2022-05-24T00:17:43.917685Z",
     "shell.execute_reply.started": "2022-05-24T00:17:43.910594Z"
    }
   },
   "source": [
    "**PS: This is a work in progress.**👷\n",
    "Further documentation and plots coming soon! "
   ]
  }
 ],
 "metadata": {
  "kaggle": {
   "accelerator": "gpu",
   "dataSources": [
    {
     "datasetId": 375901,
     "sourceId": 1095979,
     "sourceType": "datasetVersion"
    },
    {
     "datasetId": 2082105,
     "sourceId": 3457615,
     "sourceType": "datasetVersion"
    }
   ],
   "dockerImageVersionId": 30177,
   "isGpuEnabled": true,
   "isInternetEnabled": true,
   "language": "python",
   "sourceType": "notebook"
  },
  "kernelspec": {
   "display_name": "Python 3 (ipykernel)",
   "language": "python",
   "name": "python3"
  },
  "language_info": {
   "codemirror_mode": {
    "name": "ipython",
    "version": 3
   },
   "file_extension": ".py",
   "mimetype": "text/x-python",
   "name": "python",
   "nbconvert_exporter": "python",
   "pygments_lexer": "ipython3",
   "version": "3.12.2"
  }
 },
 "nbformat": 4,
 "nbformat_minor": 4
}
